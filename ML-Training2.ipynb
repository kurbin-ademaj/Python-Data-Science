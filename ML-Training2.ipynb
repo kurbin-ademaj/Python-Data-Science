{
 "cells": [
  {
   "cell_type": "code",
   "execution_count": 129,
   "id": "56a0e284",
   "metadata": {},
   "outputs": [],
   "source": [
    "import numpy as np \n",
    "import tensorflow as tf\n",
    "import tensorflow_datasets as tfds"
   ]
  },
  {
   "cell_type": "code",
   "execution_count": 130,
   "id": "aeec65df",
   "metadata": {},
   "outputs": [],
   "source": [
    "# Load dataset with info\n",
    "mnist_dataset, mnist_info = tfds.load(\n",
    "    name='mnist',\n",
    "    with_info=True,\n",
    "    as_supervised=True\n",
    ")"
   ]
  },
  {
   "cell_type": "code",
   "execution_count": 131,
   "id": "81f8ac70",
   "metadata": {},
   "outputs": [],
   "source": [
    "# Separate train and test splits\n",
    "mnist_train, mnist_test = mnist_dataset['train'], mnist_dataset['test']"
   ]
  },
  {
   "cell_type": "code",
   "execution_count": 132,
   "id": "fe9841fc",
   "metadata": {},
   "outputs": [],
   "source": [
    "# Compute sizes (Python ints, simpler than tf.cast)\n",
    "num_validation_samples = int(0.1 * mnist_info.splits['train'].num_examples)  # 10% of training set\n",
    "num_test_samples = int(mnist_info.splits['test'].num_examples)               # full test set"
   ]
  },
  {
   "cell_type": "code",
   "execution_count": 133,
   "id": "6b0e6140",
   "metadata": {},
   "outputs": [],
   "source": [
    "# Preprocessing function (scale pixels to [0, 1])\n",
    "def scale(image, label):\n",
    "    image = tf.cast(image, tf.float32)\n",
    "    image /= 255.0\n",
    "    return image, label"
   ]
  },
  {
   "cell_type": "code",
   "execution_count": 134,
   "id": "ab118451",
   "metadata": {},
   "outputs": [],
   "source": [
    "# Apply scaling\n",
    "scaled_train_and_validation_data = mnist_train.map(scale)\n",
    "scaled_test_data = mnist_test.map(scale)"
   ]
  },
  {
   "cell_type": "code",
   "execution_count": 135,
   "id": "cfa0f585",
   "metadata": {},
   "outputs": [],
   "source": [
    "# Shuffle training data\n",
    "BUFFER_SIZE = 10000\n",
    "shuffled_data = scaled_train_and_validation_data.shuffle(BUFFER_SIZE)"
   ]
  },
  {
   "cell_type": "code",
   "execution_count": 136,
   "id": "d268916c",
   "metadata": {},
   "outputs": [],
   "source": [
    "# Split into validation and training\n",
    "validation_data = shuffled_data.take(num_validation_samples).batch(num_validation_samples)\n",
    "train_data = shuffled_data.skip(num_validation_samples).batch(100)\n",
    "test_data = scaled_test_data.batch(100)"
   ]
  },
  {
   "cell_type": "code",
   "execution_count": 137,
   "id": "722b1670",
   "metadata": {},
   "outputs": [],
   "source": [
    "# Model parameters\n",
    "hidden_layer_size = 100\n",
    "output_size = 10\n",
    "\n",
    "# Build model\n",
    "model = tf.keras.Sequential([\n",
    "    tf.keras.layers.Flatten(input_shape=(28, 28, 1)),\n",
    "    tf.keras.layers.Dense(hidden_layer_size, activation='relu'),\n",
    "    tf.keras.layers.Dense(hidden_layer_size, activation='relu'),\n",
    "    tf.keras.layers.Dense(output_size, activation='softmax')\n",
    "])"
   ]
  },
  {
   "cell_type": "code",
   "execution_count": 138,
   "id": "ef2f7534",
   "metadata": {},
   "outputs": [],
   "source": [
    "# Compile model\n",
    "model.compile(\n",
    "    optimizer='adam',\n",
    "    loss='sparse_categorical_crossentropy',\n",
    "    metrics=['accuracy']\n",
    ")"
   ]
  },
  {
   "cell_type": "code",
   "execution_count": 139,
   "id": "2433cfb2",
   "metadata": {},
   "outputs": [
    {
     "name": "stdout",
     "output_type": "stream",
     "text": [
      "Epoch 1/5\n",
      "540/540 - 7s - 13ms/step - accuracy: 0.9062 - loss: 0.3301 - val_accuracy: 0.9538 - val_loss: 0.1539\n",
      "Epoch 2/5\n",
      "540/540 - 4s - 7ms/step - accuracy: 0.9600 - loss: 0.1369 - val_accuracy: 0.9702 - val_loss: 0.1073\n",
      "Epoch 3/5\n",
      "540/540 - 3s - 6ms/step - accuracy: 0.9704 - loss: 0.0976 - val_accuracy: 0.9737 - val_loss: 0.0836\n",
      "Epoch 4/5\n",
      "540/540 - 3s - 6ms/step - accuracy: 0.9777 - loss: 0.0749 - val_accuracy: 0.9778 - val_loss: 0.0748\n",
      "Epoch 5/5\n",
      "540/540 - 3s - 6ms/step - accuracy: 0.9809 - loss: 0.0605 - val_accuracy: 0.9840 - val_loss: 0.0544\n"
     ]
    },
    {
     "data": {
      "text/plain": [
       "<keras.src.callbacks.history.History at 0x237c257dbd0>"
      ]
     },
     "execution_count": 139,
     "metadata": {},
     "output_type": "execute_result"
    }
   ],
   "source": [
    "# Train model\n",
    "NUM_EPOCHS = 5\n",
    "model.fit(\n",
    "    train_data,\n",
    "    epochs=NUM_EPOCHS,\n",
    "    validation_data=validation_data,\n",
    "    verbose=2\n",
    ")"
   ]
  },
  {
   "cell_type": "code",
   "execution_count": 140,
   "id": "0313c6da",
   "metadata": {},
   "outputs": [
    {
     "name": "stdout",
     "output_type": "stream",
     "text": [
      "\u001b[1m100/100\u001b[0m \u001b[32m━━━━━━━━━━━━━━━━━━━━\u001b[0m\u001b[37m\u001b[0m \u001b[1m1s\u001b[0m 7ms/step - accuracy: 0.9758 - loss: 0.0801\n",
      "Test loss: 0.08. Test accuracy: 97.58%\n"
     ]
    }
   ],
   "source": [
    "# Evaluate on test set\n",
    "test_loss, test_accuracy = model.evaluate(test_data)\n",
    "print('Test loss: {:.2f}. Test accuracy: {:.2f}%'.format(test_loss, test_accuracy * 100))"
   ]
  },
  {
   "cell_type": "code",
   "execution_count": null,
   "id": "f5b84e2e",
   "metadata": {},
   "outputs": [],
   "source": []
  }
 ],
 "metadata": {
  "kernelspec": {
   "display_name": "Python (py3-TF2.0)",
   "language": "python",
   "name": "py3-tf2.0"
  },
  "language_info": {
   "codemirror_mode": {
    "name": "ipython",
    "version": 3
   },
   "file_extension": ".py",
   "mimetype": "text/x-python",
   "name": "python",
   "nbconvert_exporter": "python",
   "pygments_lexer": "ipython3",
   "version": "3.13.5"
  }
 },
 "nbformat": 4,
 "nbformat_minor": 5
}
